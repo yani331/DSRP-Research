{
  "nbformat": 4,
  "nbformat_minor": 0,
  "metadata": {
    "colab": {
      "provenance": [],
      "authorship_tag": "ABX9TyMcdRGn92HaB+piXPzBvyS4",
      "include_colab_link": true
    },
    "kernelspec": {
      "name": "python3",
      "display_name": "Python 3"
    },
    "language_info": {
      "name": "python"
    }
  },
  "cells": [
    {
      "cell_type": "markdown",
      "metadata": {
        "id": "view-in-github",
        "colab_type": "text"
      },
      "source": [
        "<a href=\"https://colab.research.google.com/github/yani331/DSRP-Research/blob/main/SchoolResearch.ipynb\" target=\"_parent\"><img src=\"https://colab.research.google.com/assets/colab-badge.svg\" alt=\"Open In Colab\"/></a>"
      ]
    },
    {
      "cell_type": "code",
      "source": [
        "import pandas as pd"
      ],
      "metadata": {
        "id": "gXbA7Pkinact"
      },
      "execution_count": null,
      "outputs": []
    },
    {
      "cell_type": "code",
      "source": [
        "from sklearn.preprocessing import LabelEncoder"
      ],
      "metadata": {
        "id": "VMVPeZFYnaZ6"
      },
      "execution_count": null,
      "outputs": []
    },
    {
      "cell_type": "code",
      "source": [
        "from statsmodels.stats.multicomp import MultiComparison as mc"
      ],
      "metadata": {
        "id": "CNyVFXJSnaXP"
      },
      "execution_count": null,
      "outputs": []
    },
    {
      "cell_type": "code",
      "source": [
        "url ='/content/data 3.csv'\n",
        "wildlifedata = pd.read_csv(url)"
      ],
      "metadata": {
        "id": "gkTUAR2N-ASt"
      },
      "execution_count": null,
      "outputs": []
    },
    {
      "cell_type": "code",
      "source": [
        "wildlifedata.info()"
      ],
      "metadata": {
        "colab": {
          "base_uri": "https://localhost:8080/"
        },
        "id": "lIpskuTN9_7U",
        "outputId": "f182dacf-9eff-4c43-f81a-2253aa60c192"
      },
      "execution_count": null,
      "outputs": [
        {
          "output_type": "stream",
          "name": "stdout",
          "text": [
            "<class 'pandas.core.frame.DataFrame'>\n",
            "RangeIndex: 4424 entries, 0 to 4423\n",
            "Data columns (total 1 columns):\n",
            " #   Column                                                                                                                                                                                                                                                                                                                                                                                                                                                                                                                                                                                                                                                                                                                                                                                                                                                                                                         Non-Null Count  Dtype \n",
            "---  ------                                                                                                                                                                                                                                                                                                                                                                                                                                                                                                                                                                                                                                                                                                                                                                                                                                                                                                         --------------  ----- \n",
            " 0   Marital status;Application mode;Application order;Course;\"Daytime/evening attendance\t\";Previous qualification;Previous qualification (grade);Nacionality;Mother's qualification;Father's qualification;Mother's occupation;Father's occupation;Admission grade;Displaced;Educational special needs;Debtor;Tuition fees up to date;Gender;Scholarship holder;Age at enrollment;International;Curricular units 1st sem (credited);Curricular units 1st sem (enrolled);Curricular units 1st sem (evaluations);Curricular units 1st sem (approved);Curricular units 1st sem (grade);Curricular units 1st sem (without evaluations);Curricular units 2nd sem (credited);Curricular units 2nd sem (enrolled);Curricular units 2nd sem (evaluations);Curricular units 2nd sem (approved);Curricular units 2nd sem (grade);Curricular units 2nd sem (without evaluations);Unemployment rate;Inflation rate;GDP;Target  4424 non-null   object\n",
            "dtypes: object(1)\n",
            "memory usage: 34.7+ KB\n"
          ]
        }
      ]
    },
    {
      "cell_type": "code",
      "source": [
        "import matplotlib.pyplot as plt"
      ],
      "metadata": {
        "id": "jiP8i_l_naUl"
      },
      "execution_count": null,
      "outputs": []
    },
    {
      "cell_type": "code",
      "source": [
        "import numpy as np"
      ],
      "metadata": {
        "id": "aJU_ZTCs8zSs"
      },
      "execution_count": null,
      "outputs": []
    },
    {
      "cell_type": "code",
      "source": [
        "pip install statsmodels"
      ],
      "metadata": {
        "colab": {
          "base_uri": "https://localhost:8080/"
        },
        "id": "fRFVVgah8zQo",
        "outputId": "90084034-b118-459f-d263-bc085bced5a1"
      },
      "execution_count": null,
      "outputs": [
        {
          "output_type": "stream",
          "name": "stdout",
          "text": [
            "Requirement already satisfied: statsmodels in /usr/local/lib/python3.11/dist-packages (0.14.5)\n",
            "Requirement already satisfied: numpy<3,>=1.22.3 in /usr/local/lib/python3.11/dist-packages (from statsmodels) (2.0.2)\n",
            "Requirement already satisfied: scipy!=1.9.2,>=1.8 in /usr/local/lib/python3.11/dist-packages (from statsmodels) (1.16.0)\n",
            "Requirement already satisfied: pandas!=2.1.0,>=1.4 in /usr/local/lib/python3.11/dist-packages (from statsmodels) (2.2.2)\n",
            "Requirement already satisfied: patsy>=0.5.6 in /usr/local/lib/python3.11/dist-packages (from statsmodels) (1.0.1)\n",
            "Requirement already satisfied: packaging>=21.3 in /usr/local/lib/python3.11/dist-packages (from statsmodels) (25.0)\n",
            "Requirement already satisfied: python-dateutil>=2.8.2 in /usr/local/lib/python3.11/dist-packages (from pandas!=2.1.0,>=1.4->statsmodels) (2.9.0.post0)\n",
            "Requirement already satisfied: pytz>=2020.1 in /usr/local/lib/python3.11/dist-packages (from pandas!=2.1.0,>=1.4->statsmodels) (2025.2)\n",
            "Requirement already satisfied: tzdata>=2022.7 in /usr/local/lib/python3.11/dist-packages (from pandas!=2.1.0,>=1.4->statsmodels) (2025.2)\n",
            "Requirement already satisfied: six>=1.5 in /usr/local/lib/python3.11/dist-packages (from python-dateutil>=2.8.2->pandas!=2.1.0,>=1.4->statsmodels) (1.17.0)\n"
          ]
        }
      ]
    },
    {
      "cell_type": "code",
      "source": [
        "from ucimlrepo import fetch_ucirepo\n",
        "\n",
        "School = fetch_ucirepo(id=697)\n",
        "School_features = School.data.features\n",
        "School_targets = School.data.targets\n",
        "School_data = pd.concat([School_features, School_targets], axis=1)"
      ],
      "metadata": {
        "id": "O24WkBTP9Q4E"
      },
      "execution_count": null,
      "outputs": []
    },
    {
      "cell_type": "code",
      "source": [
        "School_features.columns = School_features.columns.str.strip().str.lower().str.replace(' ', '_')"
      ],
      "metadata": {
        "id": "e8x4fD9nzJHu"
      },
      "execution_count": null,
      "outputs": []
    },
    {
      "cell_type": "code",
      "source": [
        "wildlifedata.dropna(inplace=True)"
      ],
      "metadata": {
        "id": "HAb08tuUzR-D"
      },
      "execution_count": null,
      "outputs": []
    },
    {
      "cell_type": "code",
      "source": [
        "print(wildlifedata.isnull().sum())"
      ],
      "metadata": {
        "colab": {
          "base_uri": "https://localhost:8080/"
        },
        "id": "wbc1eWdNrTho",
        "outputId": "68aac7a5-ef8c-4dbe-f4eb-22e7e1560ae9"
      },
      "execution_count": null,
      "outputs": [
        {
          "output_type": "stream",
          "name": "stdout",
          "text": [
            "Marital status;Application mode;Application order;Course;\"Daytime/evening attendance\\t\";Previous qualification;Previous qualification (grade);Nacionality;Mother's qualification;Father's qualification;Mother's occupation;Father's occupation;Admission grade;Displaced;Educational special needs;Debtor;Tuition fees up to date;Gender;Scholarship holder;Age at enrollment;International;Curricular units 1st sem (credited);Curricular units 1st sem (enrolled);Curricular units 1st sem (evaluations);Curricular units 1st sem (approved);Curricular units 1st sem (grade);Curricular units 1st sem (without evaluations);Curricular units 2nd sem (credited);Curricular units 2nd sem (enrolled);Curricular units 2nd sem (evaluations);Curricular units 2nd sem (approved);Curricular units 2nd sem (grade);Curricular units 2nd sem (without evaluations);Unemployment rate;Inflation rate;GDP;Target    0\n",
            "dtype: int64\n"
          ]
        }
      ]
    },
    {
      "cell_type": "markdown",
      "source": [
        "```\n",
        "\n",
        "How does parental education level influence academic success outcomes among college students?"
      ],
      "metadata": {
        "id": "kon5ZDz79RuO"
      }
    },
    {
      "cell_type": "code",
      "source": [
        "categories = ['Basic/Incomplete', 'Secondary', 'Higher/Technical', 'Unknown']\n",
        "mother_scores = [2.0, 2.0, 2.0, 1.0]\n",
        "father_scores = [2.0, 1.9, 2.0, 1.2]\n",
        "\n",
        "x = np.arange(len(categories))\n",
        "width = 0.35\n",
        "\n",
        "fig, ax = plt.subplots(figsize=(10, 6))\n",
        "bars1 = ax.bar(x - width/2, mother_scores, width, label=\"Mother's Education\", color='#4CAF50')\n",
        "bars2 = ax.bar(x + width/2, father_scores, width, label=\"Father's Education\", color='#2196F3')\n",
        "\n",
        "ax.set_xlabel('Parental Education Level', fontweight='bold')\n",
        "ax.set_ylabel('Academic Success Score', fontweight='bold')\n",
        "ax.set_title('Academic Success by Parental Education Level', fontweight='bold', fontsize=14)\n",
        "ax.set_xticks(x)\n",
        "ax.set_xticklabels(categories)\n",
        "ax.set_ylim(0, 2.2)\n",
        "ax.legend()\n",
        "\n",
        "for bar in bars1:\n",
        "    height = bar.get_height()\n",
        "    ax.text(bar.get_x() + bar.get_width()/2., height + 0.05, f'{height}', ha='center', va='bottom', fontweight='bold')\n",
        "\n",
        "for bar in bars2:\n",
        "    height = bar.get_height()\n",
        "    ax.text(bar.get_x() + bar.get_width()/2., height + 0.05, f'{height}', ha='center', va='bottom', fontweight='bold')\n",
        "\n",
        "plt.tight_layout()\n",
        "plt.show()"
      ],
      "metadata": {
        "colab": {
          "base_uri": "https://localhost:8080/",
          "height": 627
        },
        "id": "giImT2_x8zHj",
        "outputId": "49240730-d582-49c3-c865-ef8fa719cdab"
      },
      "execution_count": null,
      "outputs": [
        {
          "output_type": "display_data",
          "data": {
            "text/plain": [
              "<Figure size 1000x600 with 1 Axes>"
            ],
            "image/png": "[encoded data removed]"
          },
          "metadata": {}
        }
      ]
    },
    {
      "cell_type": "code",
      "source": [
        "import seaborn as sns\n",
        "\n",
        "# Calculate academic success score (e.g., average grade)\n",
        "academic_success_scores = (School_data['Curricular units 1st sem (grade)'] + School_data['Curricular units 2nd sem (grade)']) / 2\n",
        "\n",
        "sns.histplot(academic_success_scores, bins=10, kde=True)\n",
        "plt.title('Distribution of Academic Performance')\n",
        "plt.xlabel('Academic Success Score')\n",
        "plt.show()"
      ],
      "metadata": {
        "colab": {
          "base_uri": "https://localhost:8080/",
          "height": 472
        },
        "id": "_R4ntaK73h-K",
        "outputId": "cac527b4-35d2-40da-b2fe-8f58cdf3eec3"
      },
      "execution_count": null,
      "outputs": [
        {
          "output_type": "display_data",
          "data": {
            "text/plain": [
              "<Figure size 640x480 with 1 Axes>"
            ],
            "image/png": "[encoded data removed]"
          },
          "metadata": {}
        }
      ]
    },
    {
      "cell_type": "code",
      "source": [
        "print(School_data['Mother\\'s qualification'].value_counts())"
      ],
      "metadata": {
        "colab": {
          "base_uri": "https://localhost:8080/"
        },
        "id": "w_fvEj9P3wWV",
        "outputId": "5e338326-8200-497c-be79-1e856d944e21"
      },
      "execution_count": null,
      "outputs": [
        {
          "output_type": "stream",
          "name": "stdout",
          "text": [
            "Mother's qualification\n",
            "1     1069\n",
            "37    1009\n",
            "19     953\n",
            "38     562\n",
            "3      438\n",
            "34     130\n",
            "2       83\n",
            "4       49\n",
            "12      42\n",
            "5       21\n",
            "40       9\n",
            "9        8\n",
            "39       8\n",
            "41       6\n",
            "42       4\n",
            "6        4\n",
            "43       4\n",
            "30       3\n",
            "35       3\n",
            "36       3\n",
            "11       3\n",
            "29       3\n",
            "10       3\n",
            "14       2\n",
            "18       1\n",
            "22       1\n",
            "27       1\n",
            "26       1\n",
            "44       1\n",
            "Name: count, dtype: int64\n"
          ]
        }
      ]
    },
    {
      "cell_type": "code",
      "source": [
        "from scipy import stats\n",
        "# ANOVA for mother’s education level\n",
        "groups = [academic_success_scores[School_data['Mother\\'s qualification'] == level]\n",
        "          for level in School_data['Mother\\'s qualification'].unique()]\n",
        "anova_result = stats.f_oneway(*groups)\n",
        "print(f\"ANOVA result (Mother), (Father): F={anova_result.statistic:.2f}, p={anova_result.pvalue:.4f}\")"
      ],
      "metadata": {
        "colab": {
          "base_uri": "https://localhost:8080/"
        },
        "id": "vCfbctuW4NbR",
        "outputId": "677d549b-0388-4c3b-ff3c-ef1e679dd465"
      },
      "execution_count": null,
      "outputs": [
        {
          "output_type": "stream",
          "name": "stdout",
          "text": [
            "ANOVA result (Mother), (Father): F=4.33, p=0.0000\n"
          ]
        }
      ]
    },
    {
      "cell_type": "code",
      "source": [
        "# Post-hoc test: Tukey HSD\n",
        "compare = mc(academic_success_scores, School_data['Mother\\'s qualification'])\n",
        "tukey = compare.tukeyhsd()\n",
        "print(tukey.summary())"
      ],
      "metadata": {
        "colab": {
          "base_uri": "https://localhost:8080/"
        },
        "id": "EpfqibJx4NX2",
        "outputId": "c1e61f31-70ea-4646-b091-aa9ee8786214"
      },
      "execution_count": null,
      "outputs": [
        {
          "output_type": "stream",
          "name": "stdout",
          "text": [
            " Multiple Comparison of Means - Tukey HSD, FWER=0.05 \n",
            "=====================================================\n",
            "group1 group2 meandiff p-adj   lower    upper  reject\n",
            "-----------------------------------------------------\n",
            "     1      2   0.1223    1.0  -1.9068  2.1513  False\n",
            "     1      3  -0.5343  0.979  -1.5446  0.4759  False\n",
            "     1      4   0.1268    1.0  -2.4748  2.7283  False\n",
            "     1      5   0.7181    1.0  -3.2057   4.642  False\n",
            "     1      6  -5.8471  0.801 -14.7675  3.0732  False\n",
            "     1      9  -5.5251 0.2023 -11.8445  0.7942  False\n",
            "     1     10  -4.2999 0.9994 -14.5954  5.9956  False\n",
            "     1     11    1.314    1.0  -8.9815 11.6095  False\n",
            "     1     12  -1.9617 0.6798  -4.7629  0.8394  False\n",
            "     1     14  -4.7944 0.9999 -17.3978  7.8091  False\n",
            "     1     18   1.9362    1.0 -15.8795 19.7519  False\n",
            "     1     19  -0.3071 0.9999  -1.1004  0.4863  False\n",
            "     1     22   3.7404    1.0 -14.0753  21.556  False\n",
            "     1     26   1.6779    1.0 -16.1378 19.4935  False\n",
            "     1     27   1.9279    1.0 -15.8878 19.7435  False\n",
            "     1     29  -5.9638 0.9379 -16.2593  4.3317  False\n",
            "     1     30   1.4112    1.0  -8.8843 11.7067  False\n",
            "     1     34  -3.6063    0.0  -5.2604 -1.9523   True\n",
            "     1     35    1.282    1.0  -9.0135 11.5775  False\n",
            "     1     36  -1.3471    1.0 -11.6426  8.9483  False\n",
            "     1     37  -0.7055 0.1529  -1.4871  0.0761  False\n",
            "     1     38     0.26    1.0  -0.6679  1.1878  False\n",
            "     1     39  -2.2461    1.0  -8.5655  4.0733  False\n",
            "     1     40   1.5857    1.0   -4.375  7.5464  False\n",
            "     1     41    2.212    1.0  -5.0782  9.5022  False\n",
            "     1     42  -4.2305 0.9955 -13.1508  4.6898  False\n",
            "     1     43  -0.2865    1.0  -9.2068  8.6338  False\n",
            "     1     44   0.9779    1.0 -16.8378 18.7935  False\n",
            "     2      3  -0.6566    1.0  -2.7884  1.4752  False\n",
            "     2      4   0.0045    1.0  -3.2036  3.2126  False\n",
            "     2      5   0.5958    1.0  -3.7539  4.9456  False\n",
            "     2      6  -5.9694 0.8025 -15.0851  3.1463  False\n",
            "     2      9  -5.6474 0.2383 -12.2397  0.9449  False\n",
            "     2     10  -4.4222 0.9993 -14.8874   6.043  False\n",
            "     2     11   1.1917    1.0  -9.2735 11.6569  False\n",
            "     2     12   -2.084 0.8804   -5.456   1.288  False\n",
            "     2     14  -4.9166 0.9999 -17.6591  7.8259  False\n",
            "     2     18   1.8139    1.0 -16.1004 19.7282  False\n",
            "     2     19  -0.4293    1.0  -2.4673  1.6086  False\n",
            "     2     22   3.6181    1.0 -14.2962 21.5324  False\n",
            "     2     26   1.5556    1.0 -16.3587 19.4699  False\n",
            "     2     27   1.8056    1.0 -16.1087 19.7199  False\n",
            "     2     29  -6.0861 0.9352 -16.5513  4.3792  False\n",
            "     2     30   1.2889    1.0  -9.1763 11.7542  False\n",
            "     2     34  -3.7286    0.0  -6.2305 -1.2266   True\n",
            "     2     35   1.1598    1.0  -9.3055  11.625  False\n",
            "     2     36  -1.4694    1.0 -11.9346  8.9958  False\n",
            "     2     37  -0.8278 0.9996  -2.8612  1.2056  False\n",
            "     2     38   0.1377    1.0  -1.9563  2.2317  False\n",
            "     2     39  -2.3684    1.0  -8.9606  4.2239  False\n",
            "     2     40   1.4635    1.0  -4.7859  7.7128  False\n",
            "     2     41   2.0897    1.0  -5.4383  9.6177  False\n",
            "     2     42  -4.3527  0.995 -13.4684   4.763  False\n",
            "     2     43  -0.4087    1.0  -9.5244  8.7069  False\n",
            "     2     44   0.8556    1.0 -17.0587 18.7699  False\n",
            "     3      4   0.6611    1.0  -2.0213  3.3435  False\n",
            "     3      5   1.2525    1.0  -2.7255  5.2304  False\n",
            "     3      6  -5.3128  0.919  -14.257  3.6314  False\n",
            "     3      9  -4.9908 0.4207 -11.3439  1.3623  False\n",
            "     3     10  -3.7656    1.0 -14.0818  6.5507  False\n",
            "     3     11   1.8483    1.0  -8.4679 12.1645  False\n",
            "     3     12  -1.4274 0.9912  -4.3039  1.4491  False\n",
            "     3     14    -4.26    1.0 -16.8804  8.3604  False\n",
            "     3     18   2.4705    1.0 -15.3571 20.2982  False\n",
            "     3     19   0.2273    1.0  -0.8007  1.2553  False\n",
            "     3     22   4.2747    1.0 -13.5529 22.1024  False\n",
            "     3     26   2.2122    1.0 -15.6154 20.0399  False\n",
            "     3     27   2.4622    1.0 -15.3654 20.2899  False\n",
            "     3     29  -5.4295 0.9803 -15.7457  4.8868  False\n",
            "     3     30   1.9455    1.0  -8.3707 12.2618  False\n",
            "     3     34   -3.072    0.0  -4.8505 -1.2934   True\n",
            "     3     35   1.8164    1.0  -8.4998 12.1326  False\n",
            "     3     36  -0.8128    1.0  -11.129  9.5034  False\n",
            "     3     37  -0.1712    1.0  -1.1901  0.8478  False\n",
            "     3     38   0.7943 0.6812  -0.3407  1.9293  False\n",
            "     3     39  -1.7118    1.0  -8.0648  4.6413  False\n",
            "     3     40   2.1201    1.0  -3.8764  8.1165  False\n",
            "     3     41   2.7464 0.9999  -4.5731 10.0658  False\n",
            "     3     42  -3.6961 0.9995 -12.6404  5.2481  False\n",
            "     3     43   0.2479    1.0  -8.6964  9.1921  False\n",
            "     3     44   1.5122    1.0 -16.3154 19.3399  False\n",
            "     4      5   0.5914    1.0  -4.0532  5.2359  False\n",
            "     4      6  -5.9739 0.8252 -15.2338  3.2861  False\n",
            "     4      9  -5.6519 0.2943 -12.4422  1.1385  False\n",
            "     4     10  -4.4267 0.9994 -15.0178  6.1645  False\n",
            "     4     11   1.1872    1.0  -9.4039 11.7783  False\n",
            "     4     12  -2.0885 0.9595   -5.833   1.656  False\n",
            "     4     14  -4.9211 0.9999 -17.7672   7.925  False\n",
            "     4     18   1.8094    1.0 -16.1787 19.7976  False\n",
            "     4     19  -0.4338    1.0  -3.0423  2.1747  False\n",
            "     4     22   3.6136    1.0 -14.3745 21.6017  False\n",
            "     4     26   1.5511    1.0  -16.437 19.5392  False\n",
            "     4     27   1.8011    1.0  -16.187 19.7892  False\n",
            "     4     29  -6.0906 0.9426 -16.6817  4.5006  False\n",
            "     4     30   1.2844    1.0  -9.3067 11.8756  False\n",
            "     4     34  -3.7331 0.0011  -6.7182  -0.748   True\n",
            "     4     35   1.1553    1.0  -9.4358 11.7464  False\n",
            "     4     36  -1.4739    1.0  -12.065  9.1172  False\n",
            "     4     37  -0.8323    1.0  -3.4372  1.7727  False\n",
            "     4     38   0.1332    1.0  -2.5193  2.7857  False\n",
            "     4     39  -2.3729    1.0  -9.1632  4.4175  False\n",
            "     4     40    1.459    1.0   -4.999  7.9169  False\n",
            "     4     41   2.0853    1.0  -5.6168  9.7873  False\n",
            "     4     42  -4.3572  0.996 -13.6172  4.9027  False\n",
            "     4     43  -0.4132    1.0  -9.6732  8.8467  False\n",
            "     4     44   0.8511    1.0  -17.137 18.8392  False\n",
            "     5      6  -6.5653  0.749   -16.28  3.1494  False\n",
            "     5      9  -6.2432 0.2669 -13.6417  1.1553  False\n",
            "     5     10   -5.018 0.9975  -16.009  5.9729  False\n",
            "     5     11   0.5959    1.0 -10.3951 11.5868  False\n",
            "     5     12  -2.6799 0.9548  -7.4391  2.0794  False\n",
            "     5     14  -5.5125 0.9994 -18.6901  7.6652  False\n",
            "     5     18   1.2181    1.0 -17.0083 19.4445  False\n",
            "     5     19  -1.0252    1.0  -4.9536  2.9033  False\n",
            "     5     22   3.0222    1.0 -15.2041 21.2486  False\n",
            "     5     26   0.9597    1.0 -17.2666 19.1861  False\n",
            "     5     27   1.2097    1.0 -17.0166 19.4361  False\n",
            "     5     29  -6.6819 0.8978 -17.6728   4.309  False\n",
            "     5     30   0.6931    1.0 -10.2978  11.684  False\n",
            "     5     34  -4.3244 0.0327  -8.5124 -0.1364   True\n",
            "     5     35   0.5639    1.0  -10.427 11.5548  False\n",
            "     5     36  -2.0653    1.0 -13.0562  8.9257  False\n",
            "     5     37  -1.4236    1.0  -5.3497  2.5025  False\n",
            "     5     38  -0.4582    1.0   -4.416  3.4997  False\n",
            "     5     39  -2.9642 0.9997 -10.3627  4.4343  False\n",
            "     5     40   0.8676    1.0   -6.227  7.9622  False\n",
            "     5     41   1.4939    1.0  -6.7493  9.7371  False\n",
            "     5     42  -4.9486 0.9873 -14.6633  4.7661  False\n",
            "     5     43  -1.0046    1.0 -10.7193  8.7101  False\n",
            "     5     44   0.2597    1.0 -17.9666 18.4861  False\n",
            "     6      9    0.322    1.0 -10.5827 11.2267  False\n",
            "     6     10   1.5472    1.0 -12.0534 15.1478  False\n",
            "     6     11   7.1611 0.9802  -6.4395 20.7617  False\n",
            "     6     12   3.8854 0.9995  -5.4326 13.2034  False\n",
            "     6     14   1.0528    1.0 -14.3688 16.4744  False\n",
            "     6     18   7.7833 0.9998 -12.1259 27.6925  False\n",
            "     6     19   5.5401 0.8751  -3.3823 14.4624  False\n",
            "     6     22   9.5875 0.9943 -10.3217 29.4967  False\n",
            "     6     26    7.525 0.9999 -12.3842 27.4342  False\n",
            "     6     27    7.775 0.9998 -12.1342 27.6842  False\n",
            "     6     29  -0.1167    1.0 -13.7172 13.4839  False\n",
            "     6     30   7.2583 0.9764  -6.3422 20.8589  False\n",
            "     6     34   2.2408    1.0  -6.7988 11.2804  False\n",
            "     6     35   7.1292 0.9813  -6.4714 20.7297  False\n",
            "     6     36      4.5    1.0  -9.1006 18.1006  False\n",
            "     6     37   5.1416 0.9412  -3.7797 14.0629  False\n",
            "     6     38   6.1071  0.728  -2.8282 15.0424  False\n",
            "     6     39    3.601    1.0  -7.3037 14.5058  False\n",
            "     6     40   7.4329 0.6965   -3.268 18.1338  False\n",
            "     6     41   8.0592 0.6774  -3.4354 19.5537  False\n",
            "     6     42   1.6167    1.0  -10.975 14.2084  False\n",
            "     6     43   5.5607 0.9986   -7.031 18.1524  False\n",
            "     6     44    6.825    1.0 -13.0842 26.7342  False\n",
            "     9     10   1.2252    1.0 -10.8304 13.2808  False\n",
            "     9     11   6.8391 0.9508  -5.2165 18.8947  False\n",
            "     9     12   3.5634 0.9837   -3.306 10.4327  False\n",
            "     9     14   0.7308    1.0 -13.3472 14.8087  False\n",
            "     9     18   7.4613 0.9998 -11.4262 26.3488  False\n",
            "     9     19   5.2181 0.3117  -1.1042 11.5403  False\n",
            "     9     22   9.2655 0.9925  -9.6221  28.153  False\n",
            "     9     26    7.203 0.9999 -11.6846 26.0905  False\n",
            "     9     27    7.453 0.9998 -11.4346 26.3405  False\n",
            "     9     29  -0.4387    1.0 -12.4943 11.6169  False\n",
            "     9     30   6.9363 0.9423  -5.1193 18.9919  False\n",
            "     9     34   1.9188    1.0  -4.5679  8.4055  False\n",
            "     9     35   6.8071 0.9533  -5.2485 18.8628  False\n",
            "     9     36    4.178    1.0  -7.8777 16.2336  False\n",
            "     9     37   4.8196 0.4897  -1.5012 11.1404  False\n",
            "     9     38   5.7851 0.1381  -0.5554 12.1256  False\n",
            "     9     39    3.279 0.9999  -5.6247 12.1827  False\n",
            "     9     40   7.1108 0.3208   -1.542 15.7637  False\n",
            "     9     41   7.7371 0.3669  -1.8799 17.3542  False\n",
            "     9     42   1.2946    1.0  -9.6101 12.1994  False\n",
            "     9     43   5.2386 0.9945  -5.6661 16.1434  False\n",
            "     9     44    6.503    1.0 -12.3846 25.3905  False\n",
            "    10     11   5.6139 0.9999  -8.9257 20.1535  False\n",
            "    10     12   2.3382    1.0  -8.3037 12.9801  False\n",
            "    10     14  -0.4944    1.0 -16.7502 15.7614  False\n",
            "    10     18   6.2361    1.0  -14.326 26.7983  False\n",
            "    10     19   3.9929 0.9999  -6.3044 14.2901  False\n",
            "    10     22   8.0403 0.9998 -12.5219 28.6024  False\n",
            "    10     26   5.9778    1.0 -14.5844 26.5399  False\n",
            "    10     27   6.2278    1.0 -14.3344 26.7899  False\n",
            "    10     29  -1.6639    1.0 -16.2035 12.8757  False\n",
            "    10     30   5.7111 0.9998  -8.8285 20.2507  False\n",
            "    10     34   0.6936    1.0  -9.7054 11.0926  False\n",
            "    10     35   5.5819 0.9999  -8.9577 20.1216  False\n",
            "    10     36   2.9528    1.0 -11.5869 17.4924  False\n",
            "    10     37   3.5944    1.0  -6.7019 13.8908  False\n",
            "    10     38   4.5599 0.9985  -5.7486 14.8684  False\n",
            "    10     39   2.0538    1.0 -10.0018 14.1094  False\n",
            "    10     40   5.8856 0.9913  -5.9859 17.7572  False\n",
            "    10     41   6.5119 0.9844  -6.0798 19.1036  False\n",
            "    10     42   0.0694    1.0 -13.5311   13.67  False\n",
            "    10     43   4.0134    1.0  -9.5871  17.614  False\n",
            "    10     44   5.2778    1.0 -15.2844 25.8399  False\n",
            "    11     12  -3.2757    1.0 -13.9176  7.3662  False\n",
            "    11     14  -6.1083 0.9999 -22.3641 10.1475  False\n",
            "    11     18   0.6222    1.0 -19.9399 21.1844  False\n",
            "    11     19   -1.621    1.0 -11.9183  8.6762  False\n",
            "    11     22   2.4264    1.0 -18.1358 22.9885  False\n",
            "    11     26   0.3639    1.0 -20.1983  20.926  False\n",
            "    11     27   0.6139    1.0 -19.9483  21.176  False\n",
            "    11     29  -7.2778   0.99 -21.8174  7.2619  False\n",
            "    11     30   0.0972    1.0 -14.4424 14.6369  False\n",
            "    11     34  -4.9203 0.9956 -15.3193  5.4787  False\n",
            "    11     35  -0.0319    1.0 -14.5716 14.5077  False\n",
            "    11     36  -2.6611    1.0 -17.2007 11.8785  False\n",
            "    11     37  -2.0195    1.0 -12.3158  8.2769  False\n",
            "    11     38   -1.054    1.0 -11.3625  9.2545  False\n",
            "    11     39  -3.5601    1.0 -15.6157  8.4956  False\n",
            "    11     40   0.2718    1.0 -11.5998 12.1433  False\n",
            "    11     41    0.898    1.0 -11.6936 13.4897  False\n",
            "    11     42  -5.5444 0.9996  -19.145  8.0561  False\n",
            "    11     43  -1.6004    1.0  -15.201 12.0001  False\n",
            "    11     44  -0.3361    1.0 -20.8983  20.226  False\n",
            "    12     14  -2.8326    1.0 -15.7206 10.0554  False\n",
            "    12     18   3.8979    1.0 -14.1202  21.916  False\n",
            "    12     19   1.6547 0.9253  -1.1529  4.4623  False\n",
            "    12     22   5.7021    1.0  -12.316 23.7202  False\n",
            "    12     26   3.6396    1.0 -14.3785 21.6577  False\n",
            "    12     27   3.8896    1.0 -14.1285 21.9077  False\n",
            "    12     29  -4.0021 0.9999  -14.644  6.6399  False\n",
            "    12     30   3.3729    1.0   -7.269 14.0149  False\n",
            "    12     34  -1.6446  0.983  -4.8052   1.516  False\n",
            "    12     35   3.2438    1.0  -7.3982 13.8857  False\n",
            "    12     36   0.6146    1.0 -10.0273 11.2565  False\n",
            "    12     37   1.2562 0.9982  -1.5481  4.0606  False\n",
            "    12     38   2.2217 0.4373  -0.6269  5.0703  False\n",
            "    12     39  -0.2844    1.0  -7.1537   6.585  False\n",
            "    12     40   3.5475 0.9711  -2.9934 10.0884  False\n",
            "    12     41   4.1738 0.9745   -3.598 11.9455  False\n",
            "    12     42  -2.2687    1.0 -11.5867  7.0493  False\n",
            "    12     43   1.6753    1.0  -7.6427 10.9933  False\n",
            "    12     44   2.9396    1.0 -15.0785 20.9577  False\n",
            "    14     18   6.7306    1.0 -15.0789   28.54  False\n",
            "    14     19   4.4873    1.0  -8.1176 17.0922  False\n",
            "    14     22   8.5347 0.9998 -13.2747 30.3442  False\n",
            "    14     26   6.4722    1.0 -15.3372 28.2817  False\n",
            "    14     27   6.7222    1.0 -15.0872 28.5317  False\n",
            "    14     29  -1.1694    1.0 -17.4252 15.0864  False\n",
            "    14     30   6.2056 0.9999 -10.0502 22.4614  False\n",
            "    14     34    1.188    1.0 -11.5001 13.8762  False\n",
            "    14     35   6.0764 0.9999 -10.1794 22.3322  False\n",
            "    14     36   3.4472    1.0 -12.8086  19.703  False\n",
            "    14     37   4.0888    1.0  -8.5153  16.693  False\n",
            "    14     38   5.0543 0.9997  -7.5598 17.6684  False\n",
            "    14     39   2.5483    1.0 -11.5297 16.6262  False\n",
            "    14     40   6.3801 0.9974  -7.5405 20.3007  False\n",
            "    14     41   7.0064 0.9943  -7.5333  21.546  False\n",
            "    14     42   0.5639    1.0 -14.8577 15.9855  False\n",
            "    14     43   4.5079    1.0 -10.9137 19.9295  False\n",
            "    14     44   5.7722    1.0 -16.0372 27.5817  False\n",
            "    18     19  -2.2433    1.0 -20.0599 15.5734  False\n",
            "    18     22   1.8042    1.0 -23.3792 26.9875  False\n",
            "    18     26  -0.2583    1.0 -25.4417  24.925  False\n",
            "    18     27  -0.0083    1.0 -25.1917  25.175  False\n",
            "    18     29     -7.9 0.9999 -28.4621 12.6621  False\n",
            "    18     30   -0.525    1.0 -21.0871 20.0371  False\n",
            "    18     34  -5.5425    1.0 -23.4182 12.3332  False\n",
            "    18     35  -0.6542    1.0 -21.2163  19.908  False\n",
            "    18     36  -3.2833    1.0 -23.8455 17.2788  False\n",
            "    18     37  -2.6417    1.0 -20.4579 15.1745  False\n",
            "    18     38  -1.6762    1.0 -19.4994 16.1469  False\n",
            "    18     39  -4.1823    1.0 -23.0698 14.7052  False\n",
            "    18     40  -0.3505    1.0  -19.121 18.4201  False\n",
            "    18     41   0.2758    1.0 -18.9583 19.5099  False\n",
            "    18     42  -6.1667    1.0 -26.0759 13.7425  False\n",
            "    18     43  -2.2227    1.0 -22.1319 17.6865  False\n",
            "    18     44  -0.9583    1.0 -26.1417  24.225  False\n",
            "    19     22   4.0474    1.0 -13.7693 21.8641  False\n",
            "    19     26   1.9849    1.0 -15.8318 19.8016  False\n",
            "    19     27   2.2349    1.0 -15.5818 20.0516  False\n",
            "    19     29  -5.6567 0.9662  -15.954  4.6405  False\n",
            "    19     30   1.7183    1.0   -8.579 12.0155  False\n",
            "    19     34  -3.2993    0.0  -4.9642 -1.6343   True\n",
            "    19     35   1.5891    1.0  -8.7082 11.8863  False\n",
            "    19     36  -1.0401    1.0 -11.3373  9.2572  False\n",
            "    19     37  -0.3985 0.9914  -1.2028  0.4059  False\n",
            "    19     38    0.567 0.9122  -0.3801  1.5141  False\n",
            "    19     39   -1.939    1.0  -8.2613  4.3832  False\n",
            "    19     40   1.8928    1.0   -4.071  7.8565  False\n",
            "    19     41   2.5191    1.0  -4.7736  9.8117  False\n",
            "    19     42  -3.9234 0.9987 -12.8457  4.9989  False\n",
            "    19     43   0.0206    1.0  -8.9018  8.9429  False\n",
            "    19     44   1.2849    1.0 -16.5318 19.1016  False\n",
            "    22     26  -2.0625    1.0 -27.2459 23.1209  False\n",
            "    22     27  -1.8125    1.0 -26.9959 23.3709  False\n",
            "    22     29  -9.7042 0.9958 -30.2663  10.858  False\n",
            "    22     30  -2.3292    1.0 -22.8913  18.233  False\n",
            "    22     34  -7.3467 0.9996 -25.2224  10.529  False\n",
            "    22     35  -2.4583    1.0 -23.0205 18.1038  False\n",
            "    22     36  -5.0875    1.0 -25.6496 15.4746  False\n",
            "    22     37  -4.4459    1.0  -22.262 13.3703  False\n",
            "    22     38  -3.4804    1.0 -21.3036 14.3428  False\n",
            "    22     39  -5.9865    1.0  -24.874 12.9011  False\n",
            "    22     40  -2.1546    1.0 -20.9252  16.616  False\n",
            "    22     41  -1.5283    1.0 -20.7625 17.7058  False\n",
            "    22     42  -7.9708 0.9997   -27.88 11.9384  False\n",
            "    22     43  -4.0268    1.0  -23.936 15.8824  False\n",
            "    22     44  -2.7625    1.0 -27.9459 22.4209  False\n",
            "    26     27     0.25    1.0 -24.9334 25.4334  False\n",
            "    26     29  -7.6417 0.9999 -28.2038 12.9205  False\n",
            "    26     30  -0.2667    1.0 -20.8288 20.2955  False\n",
            "    26     34  -5.2842    1.0 -23.1599 12.5915  False\n",
            "    26     35  -0.3958    1.0  -20.958 20.1663  False\n",
            "    26     36   -3.025    1.0 -23.5871 17.5371  False\n",
            "    26     37  -2.3834    1.0 -20.1995 15.4328  False\n",
            "    26     38  -1.4179    1.0 -19.2411 16.4053  False\n",
            "    26     39   -3.924    1.0 -22.8115 14.9636  False\n",
            "    26     40  -0.0921    1.0 -18.8627 18.6785  False\n",
            "    26     41   0.5342    1.0    -18.7 19.7683  False\n",
            "    26     42  -5.9083    1.0 -25.8175 14.0009  False\n",
            "    26     43  -1.9643    1.0 -21.8735 17.9449  False\n",
            "    26     44     -0.7    1.0 -25.8834 24.4834  False\n",
            "    27     29  -7.8917 0.9999 -28.4538 12.6705  False\n",
            "    27     30  -0.5167    1.0 -21.0788 20.0455  False\n",
            "    27     34  -5.5342    1.0 -23.4099 12.3415  False\n",
            "    27     35  -0.6458    1.0  -21.208 19.9163  False\n",
            "    27     36   -3.275    1.0 -23.8371 17.2871  False\n",
            "    27     37  -2.6334    1.0 -20.4495 15.1828  False\n",
            "    27     38  -1.6679    1.0 -19.4911 16.1553  False\n",
            "    27     39   -4.174    1.0 -23.0615 14.7136  False\n",
            "    27     40  -0.3421    1.0 -19.1127 18.4285  False\n",
            "    27     41   0.2842    1.0   -18.95 19.5183  False\n",
            "    27     42  -6.1583    1.0 -26.0675 13.7509  False\n",
            "    27     43  -2.2143    1.0 -22.1235 17.6949  False\n",
            "    27     44    -0.95    1.0 -26.1334 24.2334  False\n",
            "    29     30    7.375  0.988  -7.1646 21.9146  False\n",
            "    29     34   2.3575    1.0  -8.0415 12.7565  False\n",
            "    29     35   7.2458 0.9906  -7.2938 21.7855  False\n",
            "    29     36   4.6167    1.0   -9.923 19.1563  False\n",
            "    29     37   5.2583 0.9868  -5.0381 15.5546  False\n",
            "    29     38   6.2238 0.9045  -4.0847 16.5322  False\n",
            "    29     39   3.7177    1.0  -8.3379 15.7733  False\n",
            "    29     40   7.5495 0.8453   -4.322 19.4211  False\n",
            "    29     41   8.1758 0.8156  -4.4159 20.7675  False\n",
            "    29     42   1.7333    1.0 -11.8672 15.3339  False\n",
            "    29     43   5.6773 0.9994  -7.9232 19.2779  False\n",
            "    29     44   6.9417    1.0 -13.6205 27.5038  False\n",
            "    30     34  -5.0175 0.9942 -15.4165  5.3815  False\n",
            "    30     35  -0.1292    1.0 -14.6688 14.4105  False\n",
            "    30     36  -2.7583    1.0  -17.298 11.7813  False\n",
            "    30     37  -2.1167    1.0 -12.4131  8.1796  False\n",
            "    30     38  -1.1512    1.0 -11.4597  9.1572  False\n",
            "    30     39  -3.6573    1.0 -15.7129  8.3983  False\n",
            "    30     40   0.1745    1.0  -11.697 12.0461  False\n",
            "    30     41   0.8008    1.0 -11.7909 13.3925  False\n",
            "    30     42  -5.6417 0.9995 -19.2422  7.9589  False\n",
            "    30     43  -1.6977    1.0 -15.2982 11.9029  False\n",
            "    30     44  -0.4333    1.0 -20.9955 20.1288  False\n",
            "    34     35   4.8884 0.9961  -5.5107 15.2874  False\n",
            "    34     36   2.2592    1.0  -8.1398 12.6582  False\n",
            "    34     37   2.9008    0.0   1.2414  4.5602   True\n",
            "    34     38   3.8663    0.0   2.1332  5.5993   True\n",
            "    34     39   1.3602    1.0  -5.1264  7.8469  False\n",
            "    34     40   5.1921 0.2621  -0.9458 11.3299  False\n",
            "    34     41   5.8183 0.4297  -1.6174  13.254  False\n",
            "    34     42  -0.6241    1.0  -9.6638  8.4155  False\n",
            "    34     43   3.3198 0.9999  -5.7198 12.3595  False\n",
            "    34     44   4.5842    1.0 -13.2915 22.4599  False\n",
            "    35     36  -2.6292    1.0 -17.1688 11.9105  False\n",
            "    35     37  -1.9875    1.0 -12.2839  8.3088  False\n",
            "    35     38  -1.0221    1.0 -11.3305  9.2864  False\n",
            "    35     39  -3.5281    1.0 -15.5838  8.5275  False\n",
            "    35     40   0.3037    1.0 -11.5679 12.1753  False\n",
            "    35     41     0.93    1.0 -11.6617 13.5217  False\n",
            "    35     42  -5.5125 0.9997 -19.1131  8.0881  False\n",
            "    35     43  -1.5685    1.0 -15.1691 12.0321  False\n",
            "    35     44  -0.3042    1.0 -20.8663  20.258  False\n",
            "    36     37   0.6416    1.0  -9.6547  10.938  False\n",
            "    36     38   1.6071    1.0  -8.7014 11.9156  False\n",
            "    36     39   -0.899    1.0 -12.9546 11.1567  False\n",
            "    36     40   2.9329    1.0  -8.9387 14.8044  False\n",
            "    36     41   3.5592    1.0  -9.0325 16.1508  False\n",
            "    36     42  -2.8833    1.0 -16.4839 10.7172  False\n",
            "    36     43   1.0607    1.0 -12.5399 14.6612  False\n",
            "    36     44    2.325    1.0 -18.2371 22.8871  False\n",
            "    37     38   0.9655 0.0339   0.0282  1.9028   True\n",
            "    37     39  -1.5406    1.0  -7.8613  4.7802  False\n",
            "    37     40   2.2912 0.9999   -3.671  8.2534  False\n",
            "    37     41   2.9175 0.9997  -4.3739 10.2089  False\n",
            "    37     42   -3.525 0.9998 -12.4463  5.3963  False\n",
            "    37     43    0.419    1.0  -8.5023  9.3403  False\n",
            "    37     44   1.6834    1.0 -16.1328 19.4995  False\n",
            "    38     39  -2.5061 0.9998  -8.8466  3.8344  False\n",
            "    38     40   1.3258    1.0  -4.6574  7.3089  False\n",
            "    38     41   1.9521    1.0  -5.3565  9.2606  False\n",
            "    38     42  -4.4904 0.9895 -13.4257  4.4449  False\n",
            "    38     43  -0.5464    1.0  -9.4817  8.3889  False\n",
            "    38     44   0.7179    1.0 -17.1053 18.5411  False\n",
            "    39     40   3.8318 0.9985   -4.821 12.4846  False\n",
            "    39     41   4.4581 0.9968   -5.159 14.0752  False\n",
            "    39     42  -1.9844    1.0 -12.8891  8.9203  False\n",
            "    39     43   1.9596    1.0  -8.9451 12.8643  False\n",
            "    39     44    3.224    1.0 -15.6636 22.1115  False\n",
            "    40     41   0.6263    1.0   -8.759 10.0116  False\n",
            "    40     42  -5.8162 0.9703 -16.5171  4.8847  False\n",
            "    40     43  -1.8722    1.0 -12.5731  8.8287  False\n",
            "    40     44  -0.6079    1.0 -19.3785 18.1627  False\n",
            "    41     42  -6.4425 0.9571 -17.9371  5.0521  False\n",
            "    41     43  -2.4985    1.0 -13.9931  8.9961  False\n",
            "    41     44  -1.2342    1.0 -20.4683    18.0  False\n",
            "    42     43    3.944    1.0  -8.6477 16.5357  False\n",
            "    42     44   5.2083    1.0 -14.7009 25.1175  False\n",
            "    43     44   1.2643    1.0 -18.6449 21.1735  False\n",
            "-----------------------------------------------------\n"
          ]
        }
      ]
    },
    {
      "cell_type": "code",
      "source": [
        "def categorize(score):\n",
        "    if score <= 1.5:\n",
        "        return 'Low'\n",
        "    elif score <= 2.0:\n",
        "        return 'Medium'\n",
        "    else:\n",
        "        return 'High'\n",
        "    df['performance'] = academic_success_scores.apply(categorize)"
      ],
      "metadata": {
        "id": "jkjeoUN64NVd"
      },
      "execution_count": null,
      "outputs": []
    },
    {
      "cell_type": "code",
      "source": [
        "School_data['mother_encoded'] = LabelEncoder().fit_transform(School_data['Mother\\'s qualification'])\n",
        "School_data['father_encoded'] = LabelEncoder().fit_transform(School_data['Father\\'s qualification'])\n",
        "\n",
        "X = School_data[['mother_encoded', 'father_encoded']]\n",
        "y = LabelEncoder().fit_transform(School_data['performance'])"
      ],
      "metadata": {
        "id": "Y7RHYv7i4NOd"
      },
      "execution_count": null,
      "outputs": []
    },
    {
      "cell_type": "code",
      "source": [
        "compare = mc(School_data['mother_encoded'], School_data['performance'])\n",
        "tukey = compare.tukeyhsd()\n",
        "print(tukey.summary())"
      ],
      "metadata": {
        "colab": {
          "base_uri": "https://localhost:8080/"
        },
        "id": "PjdC18c4fy32",
        "outputId": "635d4cc4-f37d-45a3-b570-317390cb35cd"
      },
      "execution_count": null,
      "outputs": [
        {
          "output_type": "stream",
          "name": "stdout",
          "text": [
            "Multiple Comparison of Means - Tukey HSD, FWER=0.05\n",
            "==================================================\n",
            "group1 group2 meandiff p-adj  lower  upper  reject\n",
            "--------------------------------------------------\n",
            "  High    Low   0.3636 0.335 -0.3758 1.1031  False\n",
            "--------------------------------------------------\n"
          ]
        }
      ]
    },
    {
      "cell_type": "code",
      "source": [
        "from sklearn.model_selection import train_test_split\n",
        "from sklearn.ensemble import RandomForestClassifier\n",
        "from sklearn.metrics import classification_report\n",
        "\n",
        "X_train, X_test, y_train, y_test = train_test_split(X, y, test_size=0.2, random_state=42)\n",
        "\n",
        "model = RandomForestClassifier(random_state=42)\n",
        "model.fit(X_train, y_train)\n",
        "\n",
        "y_pred = model.predict(X_test)\n",
        "print(classification_report(y_test, y_pred))"
      ],
      "metadata": {
        "colab": {
          "base_uri": "https://localhost:8080/"
        },
        "id": "aD_TifgG488S",
        "outputId": "b62fca0d-4f2b-4290-d97d-f4b3ddc64b34"
      },
      "execution_count": null,
      "outputs": [
        {
          "output_type": "stream",
          "name": "stdout",
          "text": [
            "              precision    recall  f1-score   support\n",
            "\n",
            "           0       0.85      0.99      0.92       752\n",
            "           1       0.25      0.02      0.03       133\n",
            "\n",
            "    accuracy                           0.85       885\n",
            "   macro avg       0.55      0.50      0.47       885\n",
            "weighted avg       0.76      0.85      0.78       885\n",
            "\n"
          ]
        }
      ]
    }
  ]
}